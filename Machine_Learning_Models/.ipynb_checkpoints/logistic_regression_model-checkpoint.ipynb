{
 "cells": [
  {
   "cell_type": "code",
   "execution_count": 11,
   "id": "843764b6-93fb-4618-9f3d-f8c3a6a41de7",
   "metadata": {},
   "outputs": [],
   "source": [
    "# Step 1: Import required libraries\n",
    "import pandas as pd\n",
    "from sklearn.model_selection import train_test_split\n",
    "\n",
    "# Step 2: Load the cleaned merged dataset\n",
    "df = pd.read_csv(\"D:/diabetes-risk-prediction-model/Resources/full_cleaned_merged.csv\")\n",
    "\n",
    "# Step 3: Drop rows where target column is missing\n",
    "df = df.dropna(subset=[\"Diabetes_binary\"])\n",
    "df = df.reset_index(drop=True)\n"
   ]
  },
  {
   "cell_type": "code",
   "execution_count": 13,
   "id": "fb4eb206-fd06-43da-97f6-906718b0061c",
   "metadata": {},
   "outputs": [],
   "source": [
    "# Step 4: Split into features (X) and target (y)\n",
    "X = df.drop(\"Diabetes_binary\", axis=1)\n",
    "y = df[\"Diabetes_binary\"]\n"
   ]
  },
  {
   "cell_type": "code",
   "execution_count": 15,
   "id": "c7405aa3-2b7c-4606-8d48-42e7f3369a7f",
   "metadata": {},
   "outputs": [
    {
     "name": "stdout",
     "output_type": "stream",
     "text": [
      "X_train: (227060, 21)\n",
      "y_train: (227060,)\n",
      "X_test: (97312, 21)\n",
      "y_test: (97312,)\n"
     ]
    }
   ],
   "source": [
    "# Step 5: Split the data into training and testing sets\n",
    "X_train, X_test, y_train, y_test = train_test_split(\n",
    "    X, y, test_size=0.3, random_state=42\n",
    ")\n",
    "\n",
    "# Check the shape of the splits\n",
    "print(\"X_train:\", X_train.shape)\n",
    "print(\"y_train:\", y_train.shape)\n",
    "print(\"X_test:\", X_test.shape)\n",
    "print(\"y_test:\", y_test.shape)\n"
   ]
  },
  {
   "cell_type": "code",
   "execution_count": 18,
   "id": "9949ab6c-ccad-4002-97af-f935605f3240",
   "metadata": {},
   "outputs": [
    {
     "name": "stdout",
     "output_type": "stream",
     "text": [
      "Accuracy Score: 0.8048442124301217\n",
      "\n",
      "Confusion Matrix:\n",
      " [[71311  4626]\n",
      " [14365  7010]]\n",
      "\n",
      "Classification Report:\n",
      "               precision    recall  f1-score   support\n",
      "\n",
      "         0.0       0.83      0.94      0.88     75937\n",
      "         1.0       0.60      0.33      0.42     21375\n",
      "\n",
      "    accuracy                           0.80     97312\n",
      "   macro avg       0.72      0.63      0.65     97312\n",
      "weighted avg       0.78      0.80      0.78     97312\n",
      "\n"
     ]
    }
   ],
   "source": [
    "from sklearn.linear_model import LogisticRegression\n",
    "from sklearn.metrics import accuracy_score, confusion_matrix, classification_report\n",
    "\n",
    "# Step 6: Create and train the model\n",
    "log_model = LogisticRegression(max_iter=1000)\n",
    "log_model.fit(X_train, y_train)\n",
    "\n",
    "# Step 7: Make predictions\n",
    "y_pred = log_model.predict(X_test)\n",
    "\n",
    "# Step 8: Evaluate the model\n",
    "print(\"Accuracy Score:\", accuracy_score(y_test, y_pred))\n",
    "print(\"\\nConfusion Matrix:\\n\", confusion_matrix(y_test, y_pred))\n",
    "print(\"\\nClassification Report:\\n\", classification_report(y_test, y_pred))\n"
   ]
  },
  {
   "cell_type": "code",
   "execution_count": null,
   "id": "ff5dcac6-85f2-48e2-860e-e4fe6312a50e",
   "metadata": {},
   "outputs": [],
   "source": []
  }
 ],
 "metadata": {
  "kernelspec": {
   "display_name": "Python 3 (ipykernel)",
   "language": "python",
   "name": "python3"
  },
  "language_info": {
   "codemirror_mode": {
    "name": "ipython",
    "version": 3
   },
   "file_extension": ".py",
   "mimetype": "text/x-python",
   "name": "python",
   "nbconvert_exporter": "python",
   "pygments_lexer": "ipython3",
   "version": "3.12.7"
  }
 },
 "nbformat": 4,
 "nbformat_minor": 5
}
