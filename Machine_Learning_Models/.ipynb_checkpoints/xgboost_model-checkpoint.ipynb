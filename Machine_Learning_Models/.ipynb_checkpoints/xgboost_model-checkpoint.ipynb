{
 "cells": [
  {
   "cell_type": "code",
   "execution_count": 4,
   "id": "57f1e0ec-debd-491d-ba3d-68c72fe36279",
   "metadata": {},
   "outputs": [],
   "source": [
    "# Step 1: Import libraries\n",
    "import pandas as pd\n",
    "from sklearn.model_selection import train_test_split\n",
    "from sklearn.preprocessing import StandardScaler\n",
    "from sklearn.metrics import accuracy_score, confusion_matrix, classification_report\n",
    "from xgboost import XGBClassifier\n",
    "\n",
    "# Step 2: Load the cleaned merged dataset\n",
    "df = pd.read_csv(\"D:/diabetes-risk-prediction-model/Resources/full_cleaned_merged.csv\")\n",
    "\n",
    "# Step 3: Drop rows with missing target values\n",
    "df = df.dropna(subset=[\"Diabetes_binary\"]).reset_index(drop=True)\n",
    "\n",
    "# Step 4: Split into features and target\n",
    "X = df.drop(\"Diabetes_binary\", axis=1)\n",
    "y = df[\"Diabetes_binary\"]\n",
    "\n",
    "# Step 5: Split into train and test sets\n",
    "X_train, X_test, y_train, y_test = train_test_split(X, y, test_size=0.3, random_state=42)\n",
    "\n",
    "# Step 6: Scale the features\n",
    "scaler = StandardScaler()\n",
    "X_train_scaled = scaler.fit_transform(X_train)\n",
    "X_test_scaled = scaler.transform(X_test)\n"
   ]
  },
  {
   "cell_type": "code",
   "execution_count": 5,
   "id": "6655fd1e-2c57-4757-8e71-5dfea516e8d9",
   "metadata": {},
   "outputs": [
    {
     "name": "stderr",
     "output_type": "stream",
     "text": [
      "C:\\Users\\anqaj\\anaconda3\\Lib\\site-packages\\xgboost\\training.py:183: UserWarning: [22:32:35] WARNING: C:\\actions-runner\\_work\\xgboost\\xgboost\\src\\learner.cc:738: \n",
      "Parameters: { \"use_label_encoder\" } are not used.\n",
      "\n",
      "  bst.update(dtrain, iteration=i, fobj=obj)\n"
     ]
    },
    {
     "name": "stdout",
     "output_type": "stream",
     "text": [
      "Accuracy Score: 0.8148635317329825\n",
      "\n",
      "Confusion Matrix:\n",
      " [[71070  4867]\n",
      " [13149  8226]]\n",
      "\n",
      "Classification Report:\n",
      "               precision    recall  f1-score   support\n",
      "\n",
      "         0.0       0.84      0.94      0.89     75937\n",
      "         1.0       0.63      0.38      0.48     21375\n",
      "\n",
      "    accuracy                           0.81     97312\n",
      "   macro avg       0.74      0.66      0.68     97312\n",
      "weighted avg       0.80      0.81      0.80     97312\n",
      "\n"
     ]
    }
   ],
   "source": [
    "# Step 7: Train the XGBoost model\n",
    "xgb_model = XGBClassifier(use_label_encoder=False, eval_metric='logloss', random_state=42)\n",
    "xgb_model.fit(X_train_scaled, y_train)\n",
    "\n",
    "# Step 8: Make predictions\n",
    "y_pred = xgb_model.predict(X_test_scaled)\n",
    "\n",
    "# Step 9: Evaluate the model\n",
    "accuracy = accuracy_score(y_test, y_pred)\n",
    "conf_matrix = confusion_matrix(y_test, y_pred)\n",
    "report = classification_report(y_test, y_pred)\n",
    "\n",
    "print(\"Accuracy Score:\", accuracy)\n",
    "print(\"\\nConfusion Matrix:\\n\", conf_matrix)\n",
    "print(\"\\nClassification Report:\\n\", report)\n"
   ]
  },
  {
   "cell_type": "code",
   "execution_count": null,
   "id": "39849690-88c3-4763-b79e-d7975d135f79",
   "metadata": {},
   "outputs": [],
   "source": []
  }
 ],
 "metadata": {
  "kernelspec": {
   "display_name": "Python 3 (ipykernel)",
   "language": "python",
   "name": "python3"
  },
  "language_info": {
   "codemirror_mode": {
    "name": "ipython",
    "version": 3
   },
   "file_extension": ".py",
   "mimetype": "text/x-python",
   "name": "python",
   "nbconvert_exporter": "python",
   "pygments_lexer": "ipython3",
   "version": "3.12.7"
  }
 },
 "nbformat": 4,
 "nbformat_minor": 5
}
